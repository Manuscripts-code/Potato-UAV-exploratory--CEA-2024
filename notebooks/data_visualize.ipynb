{
 "cells": [
  {
   "cell_type": "markdown",
   "metadata": {},
   "source": [
    "## Run commands to show in browser:  \n",
    "```\n",
    "export JUPYTER_ALLOW_INSECURE_WRITES=1\n",
    "jupyter notebook notebooks/data_visualize.ipynb\n",
    "\n",
    "```"
   ]
  },
  {
   "cell_type": "code",
   "execution_count": null,
   "metadata": {},
   "outputs": [],
   "source": [
    "import sys\n",
    "sys.path.insert(0,'..')\n",
    "\n",
    "import dtale\n",
    "import pandas as pd\n",
    "\n",
    "from configs import configs, paths\n",
    "from steps import data_loader\n",
    "from configs.parser import GeneralConfig, MultispectralConfig\n"
   ]
  },
  {
   "cell_type": "code",
   "execution_count": null,
   "metadata": {},
   "outputs": [],
   "source": [
    "general_cfg = GeneralConfig(\n",
    "\traster_num_closest_points=10,\n",
    "\tdates=[\"2022_06_15\", \"2022_07_11\", \"2022_07_20\"],\n",
    "\ttreatments = [\"eko\"],\n",
    "\tvarieties=[\"KIS_Tamar\", \"KIS_Blegos\"],\n",
    ")\n",
    "multispectral_cfg = MultispectralConfig(\n",
    "\tchannels = [\"blue\", \"green\", \"nir\", \"red_edge\", \"red\"],\n",
    "\tlocation_type = \"measured\",\n",
    "\trasters_paths = paths.PATHS_MULTISPECTRAL_IMAGES,\n",
    "\tshapefiles_paths = paths.PATHS_SHAPEFILES\n",
    ")"
   ]
  },
  {
   "cell_type": "code",
   "execution_count": null,
   "metadata": {},
   "outputs": [],
   "source": [
    "data = data_loader(general_cfg, multispectral_cfg)"
   ]
  },
  {
   "cell_type": "code",
   "execution_count": null,
   "metadata": {},
   "outputs": [],
   "source": [
    "# merge two dataframes\n",
    "df = pd.concat([data.data, data.meta], axis=1)\n",
    "# Assigning a reference to a running D-Tale process.\n",
    "d = dtale.show(df)\n",
    "# Using Python's `webbrowser` package it will try and open your server's default browser to this process.\n",
    "d.open_browser()"
   ]
  },
  {
   "cell_type": "code",
   "execution_count": null,
   "metadata": {},
   "outputs": [],
   "source": [
    "# Shutting down D-Tale process\n",
    "# d.kill()"
   ]
  },
  {
   "cell_type": "code",
   "execution_count": null,
   "metadata": {},
   "outputs": [],
   "source": [
    "import sys\n",
    "sys.path.insert(0,'..')\n",
    "\n",
    "import pygwalker as pyg\n",
    "import pandas as pd\n",
    "from rich import print\n",
    "\n",
    "from configs import paths, configs"
   ]
  },
  {
   "cell_type": "code",
   "execution_count": null,
   "metadata": {},
   "outputs": [],
   "source": [
    "regression_label=\"LICOR_leaf\"\n",
    "excel_file = paths.PATHS_MEASUREMENTS[regression_label][1]\n",
    "print(excel_file)\n"
   ]
  },
  {
   "cell_type": "code",
   "execution_count": null,
   "metadata": {},
   "outputs": [],
   "source": [
    "df = pd.read_excel(excel_file)\n",
    "walker = pyg.walk(\n",
    "    df,\n",
    "    spec=str(configs.SAVE_DIR / \"walker_spec.json\"),    # this json file will save your chart state, you need to click save button in ui mannual when you finish a chart, 'autosave' will be supported in the future.\n",
    "    use_kernel_calc=True,          # set `use_kernel_calc=True`, pygwalker will use duckdb as computing engine, it support you explore bigger dataset(<=100GB).\n",
    "    dark=\"light\",\n",
    "    store_chart_data=True,          \n",
    "    hideDataSourceConfig=False\n",
    ")"
   ]
  }
 ],
 "metadata": {
  "kernelspec": {
   "display_name": "Python 3 (ipykernel)",
   "language": "python",
   "name": "python3"
  },
  "language_info": {
   "codemirror_mode": {
    "name": "ipython",
    "version": 3
   },
   "file_extension": ".py",
   "mimetype": "text/x-python",
   "name": "python",
   "nbconvert_exporter": "python",
   "pygments_lexer": "ipython3",
   "version": "3.10.12"
  }
 },
 "nbformat": 4,
 "nbformat_minor": 2
}
