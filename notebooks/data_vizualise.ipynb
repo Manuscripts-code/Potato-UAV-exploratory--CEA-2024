{
 "cells": [
  {
   "cell_type": "code",
   "execution_count": null,
   "metadata": {},
   "outputs": [],
   "source": [
    "import sys\n",
    "sys.path.insert(0,'..')\n",
    "\n",
    "import dtale\n",
    "import pandas as pd\n",
    "\n",
    "from configs import configs, paths\n",
    "from steps import data_loader\n",
    "from configs.parser import GeneralConfig, MultispectralConfig\n"
   ]
  },
  {
   "cell_type": "code",
   "execution_count": null,
   "metadata": {},
   "outputs": [],
   "source": [
    "general_cfg = GeneralConfig(\n",
    "\traster_num_closest_points=10,\n",
    "\tdates=[\"2022_06_15\", \"2022_07_11\", \"2022_07_20\"],\n",
    "\ttreatments = [\"eko\"],\n",
    "\tvarieties=[\"KIS_Tamar\", \"KIS_Blegos\"],\n",
    ")\n",
    "multispectral_cfg = MultispectralConfig(\n",
    "\tchannels = [\"blue\", \"green\", \"nir\", \"red_edge\", \"red\"],\n",
    "\tlocation_type = \"measured\",\n",
    "\trasters_paths = paths.PATHS_MULTISPECTRAL_IMAGES,\n",
    "\tshapefiles_paths = paths.PATHS_SHAPEFILES\n",
    ")"
   ]
  },
  {
   "cell_type": "code",
   "execution_count": null,
   "metadata": {},
   "outputs": [],
   "source": [
    "data = data_loader(general_cfg, multispectral_cfg)"
   ]
  },
  {
   "cell_type": "code",
   "execution_count": null,
   "metadata": {},
   "outputs": [],
   "source": [
    "# merge two dataframes\n",
    "df = pd.concat([data.data, data.meta], axis=1)\n",
    "# Assigning a reference to a running D-Tale process.\n",
    "d = dtale.show(df)\n",
    "# Using Python's `webbrowser` package it will try and open your server's default browser to this process.\n",
    "d.open_browser()"
   ]
  },
  {
   "cell_type": "code",
   "execution_count": null,
   "metadata": {},
   "outputs": [],
   "source": [
    "# Shutting down D-Tale process\n",
    "# d.kill()"
   ]
  },
  {
   "cell_type": "markdown",
   "metadata": {},
   "source": [
    "TODO: Use\n",
    "https://github.com/Kanaries/pygwalker"
   ]
  }
 ],
 "metadata": {
  "kernelspec": {
   "display_name": "Python 3 (ipykernel)",
   "language": "python",
   "name": "python3"
  },
  "language_info": {
   "codemirror_mode": {
    "name": "ipython",
    "version": 3
   },
   "file_extension": ".py",
   "mimetype": "text/x-python",
   "name": "python",
   "nbconvert_exporter": "python",
   "pygments_lexer": "ipython3",
   "version": "3.10.12"
  }
 },
 "nbformat": 4,
 "nbformat_minor": 2
}
