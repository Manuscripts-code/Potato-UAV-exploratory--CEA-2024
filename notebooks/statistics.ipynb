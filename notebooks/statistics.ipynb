{
 "cells": [
  {
   "cell_type": "markdown",
   "metadata": {},
   "source": [
    "\n",
    "### Statistical modeling\n",
    "\n",
    "This notebook is used to statistically model differences between physiology values and observe the effects and contribution of features."
   ]
  },
  {
   "cell_type": "code",
   "execution_count": null,
   "id": "01HX9NRJQPN68CFF6B2TMK896K",
   "metadata": {},
   "outputs": [],
   "source": [
    "import os\n",
    "\n",
    "import ipywidgets as widgets\n",
    "import matplotlib.pyplot as plt\n",
    "import numpy as np\n",
    "import pandas as pd\n",
    "import scipy.stats as stats\n",
    "import seaborn as sns\n",
    "import statsmodels.formula.api as smf\n",
    "from IPython.display import clear_output\n",
    "from scipy import stats\n",
    "from statsmodels.stats.multicomp import pairwise_tukeyhsd\n",
    "from zenml import pipeline\n",
    "\n",
    "from configs import configs\n",
    "from configs.parser import ConfigParser\n",
    "from data_manager.loaders import StructuredData\n",
    "from steps import data_formatter, data_loader"
   ]
  },
  {
   "cell_type": "code",
   "execution_count": null,
   "id": "01HXBZ4E3F0A9GV806M83M2R8Q",
   "metadata": {},
   "outputs": [],
   "source": [
    "# Define physiological parameter\n",
    "options = [\"E\", \"ETR\", \"gsw\", \"PhiPS2\", \"SPAD\"]\n",
    "dropdown_configs = widgets.Dropdown(\n",
    "    options=options,\n",
    "    value=options[0],\n",
    "    description='Select:',\n",
    "    disabled=False,\n",
    ")\n",
    "\n",
    "# Display the widget\n",
    "display(dropdown_configs)"
   ]
  },
  {
   "cell_type": "code",
   "execution_count": null,
   "id": "01J4HE2V34CC4DXE5BAN1QHNXG",
   "metadata": {},
   "outputs": [],
   "source": [
    "# Define dates to use\n",
    "options = [1, 2, 3]\n",
    "dropdown_dates = widgets.SelectMultiple(\n",
    "    options=options,\n",
    "    value=options,\n",
    "    description='Select:',\n",
    "    disabled=False,\n",
    ")\n",
    "\n",
    "# Display the widget\n",
    "display(dropdown_dates)"
   ]
  },
  {
   "cell_type": "markdown",
   "metadata": {},
   "source": [
    "Select values above and run cells bellow by using \n",
    "->  `Execute cell and below`"
   ]
  },
  {
   "cell_type": "code",
   "execution_count": null,
   "id": "01HX9NRJQP3FPETERJQXAQ9CRC",
   "metadata": {},
   "outputs": [],
   "source": [
    "data_loader = data_loader.with_options(enable_cache=True)\n",
    "data_formatter = data_formatter.with_options(enable_cache=True)\n",
    "\n",
    "\n",
    "@pipeline(enable_cache=True)  # type: ignore\n",
    "def load_data() -> StructuredData:\n",
    "\tcfg_parser = ConfigParser()\n",
    "\tdata = data_loader(cfg_parser.general().without_varieties(), cfg_parser.multispectral())\n",
    "\tdata = data_formatter(data, cfg_parser.general(), cfg_parser.formatter())\n",
    "\treturn data\n",
    "\n",
    "\n",
    "def load_data_last_run(config_name: str):\n",
    "\t# Set the TOML config file as an environment variable (parsed in the pipelines)\n",
    "\tos.environ[configs.TOML_ENV_NAME] = str(configs.TOML_DIR / f\"reg/{config_name}.toml\")\n",
    "\t# Run the pipeline only the first time to load the data\n",
    "\tload_data()\n",
    "\tclear_output()\n",
    "\n",
    "\tlast_run = load_data.model.last_successful_run\n",
    "\tdata = last_run.steps[\"data_formatter\"]\n",
    "\tdata = data.outputs[\"data\"].load()\n",
    "\treturn data"
   ]
  },
  {
   "cell_type": "code",
   "execution_count": null,
   "id": "01HX9NRJQQFB9KACXZV3X37W13",
   "metadata": {},
   "outputs": [],
   "source": [
    "config_name = dropdown_configs.value\n",
    "data = load_data_last_run(config_name)"
   ]
  },
  {
   "cell_type": "code",
   "execution_count": null,
   "id": "01HX9NRJQQ938WPZ28N5GWSBEZ",
   "metadata": {},
   "outputs": [],
   "source": [
    "target = data.target.value.to_frame(data.target.name).reset_index(drop=True)\n",
    "target[target<0] = 0.00001\n",
    "meta = data.meta.reset_index(drop=True)\n",
    "df = pd.concat([meta, target], axis=1)\n",
    "print(df.head())\n",
    "\n",
    "# Normalize data (select one and test)\n",
    "df[data.target.name], _ = stats.boxcox(df[data.target.name]) # Boxcox\n",
    "# df[data.target.name] = np.log(df[data.target.name]) # Log\n",
    "# df[data.target.name] = np.sqrt(df[data.target.name]) # sqrt\n",
    "# df[data.target.name] = np.cbrt(df[data.target.name]) # cbrt\n",
    "# df[data.target.name] = 1 / df[data.target.name]  # inv\n"
   ]
  },
  {
   "cell_type": "code",
   "execution_count": null,
   "id": "01HX9NRJQQF5XY02D8EKAQ6QRD",
   "metadata": {},
   "outputs": [],
   "source": [
    "# Plot a histogram\n",
    "plt.hist(df[data.target.name], bins='auto')\n",
    "plt.title(f'Histogram of {data.target.name}')\n",
    "plt.show()\n",
    "\n",
    "# Plot a Q-Q plot\n",
    "stats.probplot(df[data.target.name], plot=plt)\n",
    "plt.title(f\"Q-Q plot of {data.target.name}\")\n",
    "plt.show()"
   ]
  },
  {
   "cell_type": "code",
   "execution_count": null,
   "id": "01HX9NRJQQRYN3PZ3XDJW8SDZZ",
   "metadata": {},
   "outputs": [],
   "source": [
    "# Convert data to appropriate format\n",
    "date_map = {\"2022_06_15\": 1, '2022_07_11': 2, '2022_07_20': 3}\n",
    "# Convert 'dates' to ordinal form\n",
    "df['dates'] = df['dates'].apply(lambda x: date_map[x])\n",
    "# Define the groups for the random effects\n",
    "df[\"blocks\"] = df[\"blocks\"].astype(str)\n",
    "# Optionally remove particular date:\n",
    "dates_to_keep = dropdown_dates.value\n",
    "df = df[df[\"dates\"].isin(dates_to_keep)]\n",
    "\n",
    "# Define the formula for the model\n",
    "formula = f'{data.target.name} ~ treatments + varieties'\n",
    "\n",
    "# Create the mixed linear model\n",
    "model = smf.mixedlm(formula, df, groups=df['blocks'], re_formula=\"~dates\")\n",
    "\n",
    "# Fit the model\n",
    "result = model.fit(reml=True)\n",
    "\n",
    "# Print the summary\n",
    "print(result.summary())\n",
    "\n",
    "# Plot the residuals\n",
    "plt.scatter(result.fittedvalues, result.resid)\n",
    "plt.xlabel('Fitted values')\n",
    "plt.ylabel('Residuals')\n",
    "plt.title('Residuals vs Fitted values')\n",
    "plt.show()"
   ]
  },
  {
   "cell_type": "code",
   "execution_count": null,
   "id": "01J4HE2V353YHZCR9C8B2AEF6H",
   "metadata": {},
   "outputs": [],
   "source": [
    "df['treatment_variety'] = df['treatments'].astype(str) + \"_\" + df['varieties'].astype(str)\n",
    "df['residuals'] = result.resid"
   ]
  },
  {
   "cell_type": "code",
   "execution_count": null,
   "id": "01HXBNF2JRFDM54H8SWN5BR1PE",
   "metadata": {},
   "outputs": [],
   "source": [
    "# Tukey's HSD (Honest Significant Difference) test \n",
    "\n",
    "# Perform pairwise comparisons on the residuals\n",
    "posthoc = pairwise_tukeyhsd(endog=df['residuals'], groups=df['treatment_variety'], alpha=0.05)\n",
    "\n",
    "# Create a DataFrame from the Tukey HSD results\n",
    "df_result = pd.DataFrame(data=posthoc._results_table.data[1:], columns=posthoc._results_table.data[0])\n",
    "\n",
    "# Create a pivot table of p-values\n",
    "pivot_table = df_result.pivot(index='group1', columns='group2', values='p-adj')\n",
    "\n",
    "# Convert p-values to numeric and round to three decimal places\n",
    "pivot_table = pivot_table.apply(pd.to_numeric, errors='coerce').round(2)\n",
    "\n",
    "# Create a heatmap\n",
    "sns.heatmap(pivot_table, annot=True, center=0)\n",
    "plt.show()"
   ]
  },
  {
   "cell_type": "code",
   "execution_count": null,
   "id": "01J4HE2V3528R01WV9AN64FRSJ",
   "metadata": {},
   "outputs": [],
   "source": [
    "# Holm-Bonferroni test\n",
    "\n",
    "# Perform pairwise t-tests\n",
    "p_values = []\n",
    "for i, group1 in enumerate(df['treatment_variety'].unique()):\n",
    "    for j, group2 in enumerate(df['treatment_variety'].unique()):\n",
    "        if i < j:\n",
    "            t_stat, p_value = stats.ttest_ind(df.loc[df['treatment_variety'] == group1, 'residuals'],\n",
    "                                              df.loc[df['treatment_variety'] == group2, 'residuals'])\n",
    "            p_values.append((group1, group2, p_value))\n",
    "\n",
    "# Sort p-values in ascending order\n",
    "p_values.sort(key=lambda x: x[2])\n",
    "\n",
    "# Apply Holm-Bonferroni method\n",
    "alpha = 0.05\n",
    "for i, (group1, group2, p_value) in enumerate(p_values):\n",
    "    if p_value < alpha / (len(p_values) - i):\n",
    "        print(f'{group1} - {group2}: {p_value}')"
   ]
  },
  {
   "cell_type": "code",
   "execution_count": null,
   "id": "01HXBXT6VXWVE24YRXP52G38X3",
   "metadata": {},
   "outputs": [],
   "source": [
    "unique_dates = df['dates'].unique()\n",
    "\n",
    "for date in unique_dates:\n",
    "    plt.figure(figsize=(10, 6))\n",
    "    sns.violinplot(x='varieties', y=data.target.name, hue='treatments', data=df[df['dates'] == date])\n",
    "    plt.title(f'Boxplot for date: {date}')\n",
    "    plt.show()"
   ]
  },
  {
   "cell_type": "code",
   "execution_count": null,
   "id": "01J4PFFZG7DR7MJ621GXQKM167",
   "metadata": {},
   "outputs": [],
   "source": [
    "sns.set_palette(\"deep\")\n",
    "sns.set(style=\"whitegrid\", rc={'axes.grid': False})\n",
    "\n",
    "plt.figure()\n",
    "g = sns.FacetGrid(df, col=\"varieties\", col_wrap=3, height=4, aspect=1) # Adjust col_wrap and height, aspect as needed\n",
    "g.map_dataframe(sns.violinplot, x='dates', y=data.target.name, hue='treatments', scale=\"width\", inner=None, linewidth=1)\n",
    "\n",
    "dates_labels = ['15-June-2022', '11-July-2022', '20-July-2022']\n",
    "\n",
    "for ax in g.axes.flat:\n",
    "    ax.set_title(ax.get_title().split('=')[1], fontsize=14)  # Display only the variety\n",
    "    ax.set_xlabel(ax.get_xlabel(), fontsize=13)\n",
    "    ax.set_ylabel(ax.get_ylabel(), fontsize=13)\n",
    "    ax.set_xticklabels(dates_labels, fontsize=12)  # Set custom tick labels\n",
    "    for label in ax.get_xticklabels():\n",
    "        label.set_fontsize(12)\n",
    "    for label in ax.get_yticklabels():\n",
    "        label.set_fontsize(12)\n",
    "\n",
    "g.add_legend(loc='lower right', fontsize=14, bbox_to_anchor=(0.9, 0.15))\n",
    "# g.set_ylabels(\"SPAD\")\n",
    "g.set_xlabels(\"Date\")\n",
    "plt.tight_layout()\n",
    "plt.savefig(configs.SAVE_RESULTS_DIR / f\"{data.target.name}_facegrid.png\", format=\"png\", bbox_inches=\"tight\")"
   ]
  }
 ],
 "metadata": {
  "kernelspec": {
   "display_name": ".venv",
   "language": "python",
   "name": "python3"
  },
  "language_info": {
   "codemirror_mode": {
    "name": "ipython",
    "version": 3
   },
   "file_extension": ".py",
   "mimetype": "text/x-python",
   "name": "python",
   "nbconvert_exporter": "python",
   "pygments_lexer": "ipython3",
   "version": "3.10.12"
  }
 },
 "nbformat": 4,
 "nbformat_minor": 2
}
