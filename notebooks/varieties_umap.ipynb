{
 "cells": [
  {
   "cell_type": "code",
   "execution_count": null,
   "metadata": {},
   "outputs": [],
   "source": [
    "import itertools\n",
    "import os\n",
    "\n",
    "import matplotlib.pyplot as plt\t\n",
    "from IPython.display import clear_output\n",
    "from zenml import pipeline\n",
    "\n",
    "from configs import configs\n",
    "from configs.parser import ConfigParser\n",
    "from data_manager.loaders import StructuredData\n",
    "from steps import data_features, data_formatter, data_loader, model_creator\n",
    "from utils.plot_utils import show_umap\n",
    "\n",
    "data_loader = data_loader.with_options(enable_cache=True)\n",
    "data_formatter = data_formatter.with_options(enable_cache=True)\n",
    "data_features = data_features.with_options(enable_cache=True)\n",
    "model_creator = model_creator.with_options(enable_cache=True)"
   ]
  },
  {
   "cell_type": "code",
   "execution_count": null,
   "metadata": {},
   "outputs": [],
   "source": [
    "@pipeline(enable_cache=True)\n",
    "def load_data() -> StructuredData:\n",
    "    cfg_parser = ConfigParser()\n",
    "    data = data_loader(cfg_parser.general().without_varieties(), cfg_parser.multispectral())\n",
    "    data = data_formatter(data, cfg_parser.general(), cfg_parser.formatter())\n",
    "    data, _, _ = data_features(data, features_cfg=cfg_parser.features())\n",
    "    return data\n",
    "\n",
    "# Set the TOML config file as an environment variable (parsed in the pipelines)\n",
    "os.environ[configs.TOML_ENV_NAME] = str(configs.TOML_DIR / \"clf/umap_varieties.toml\")\n",
    "# Run the pipeline only the first time to load the data\n",
    "load_data()\n",
    "clear_output()"
   ]
  },
  {
   "cell_type": "code",
   "execution_count": null,
   "metadata": {},
   "outputs": [],
   "source": [
    "# configs\n",
    "dates = [\"2022_06_15\", \"2022_07_11\", \"2022_07_20\"]\n",
    "treatments = [\"eko\"]\n",
    "varieties = [\n",
    "\t# \"Carolus\",\n",
    "\t# \"Alouette\",\n",
    "\t# \"Twister\",\n",
    "\t# \"Otolia\",\n",
    "\t\"KIS_Tamar\",\n",
    "\t\"KIS_Blegos\",\n",
    "\t# \"KIS_Kokra\",\n",
    "\t# \"Levante\",\n",
    "]\n",
    "# umap\n",
    "n_neighbors = 15\n",
    "min_dist = 1\n",
    "metric = \"euclidean\"\n",
    "\n",
    "########################################################################\n",
    "\n",
    "last_run = load_data.model.last_successful_run\n",
    "data = last_run.steps[\"data_features\"]\n",
    "data = data.outputs[\"data_train\"].load()\n",
    "\n",
    "# filer based on parameters\n",
    "indices = data.meta.index[\n",
    "\tdata.meta[configs.VARIETY_ENG].isin(varieties)\n",
    "\t& data.meta[configs.TREATMENT_ENG].isin(treatments)\n",
    "\t& data.meta[configs.DATE_ENG].isin(dates)\n",
    "].to_list()\n",
    "data_copy = data[indices].reset_index()\n",
    "\n",
    "show_umap(\n",
    "\tdata=data_copy.data,\n",
    "\ty_data_encoded=data_copy.target.value,\n",
    "\tclasses=list(itertools.chain(*data_copy.target.encoding.tolist())),\n",
    "\tsave_path=None,\n",
    "\tfigsize=(5,3),\n",
    "\tsupervised=False,\n",
    "\trandom_state=None,\n",
    "\t**dict(\n",
    "\t\tn_neighbors=n_neighbors,\n",
    "\t\tmin_dist=min_dist,\n",
    "\t\tmetric=metric,\n",
    "\t),\n",
    ")\n"
   ]
  },
  {
   "cell_type": "code",
   "execution_count": null,
   "metadata": {},
   "outputs": [],
   "source": []
  }
 ],
 "metadata": {
  "kernelspec": {
   "display_name": "env",
   "language": "python",
   "name": "python3"
  },
  "language_info": {
   "codemirror_mode": {
    "name": "ipython",
    "version": 3
   },
   "file_extension": ".py",
   "mimetype": "text/x-python",
   "name": "python",
   "nbconvert_exporter": "python",
   "pygments_lexer": "ipython3",
   "version": "3.10.12"
  }
 },
 "nbformat": 4,
 "nbformat_minor": 2
}
