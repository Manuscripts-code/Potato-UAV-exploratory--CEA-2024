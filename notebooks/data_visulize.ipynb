{
 "cells": [
  {
   "cell_type": "code",
   "execution_count": 1,
   "metadata": {},
   "outputs": [],
   "source": [
    "import sys\n",
    "sys.path.insert(0,'..')\n",
    "\n",
    "import dtale\n",
    "import pandas as pd\n",
    "\n",
    "from configs import configs, specific_paths\n",
    "from steps import data_loader\n",
    "from configs.parser import GeneralConfig, MultispectralConfig\n"
   ]
  },
  {
   "cell_type": "code",
   "execution_count": 2,
   "metadata": {},
   "outputs": [],
   "source": [
    "general_cfg = GeneralConfig(\n",
    "\traster_num_closest_points=10,\n",
    "\tdates=[\"2022_06_15\"],\n",
    "\ttreatments = [\"eko\"],\n",
    "\tvarieties=[\"KIS_Tamar\", \"KIS_Blegos\"],\n",
    ")\n",
    "multispectral_cfg = MultispectralConfig(\n",
    "\tchannels = [\"blue\", \"green\", \"nir\", \"red_edge\", \"red\"],\n",
    "\tlocation_type = \"measured\",\n",
    "\trasters_paths = specific_paths.PATHS_MULTISPECTRAL_IMAGES,\n",
    "\tshapefiles_paths = specific_paths.PATHS_SHAPEFILES\n",
    ")"
   ]
  },
  {
   "cell_type": "code",
   "execution_count": 3,
   "metadata": {},
   "outputs": [
    {
     "name": "stdout",
     "output_type": "stream",
     "text": [
      "\u001b[1;35mLoading data...\u001b[0m\n"
     ]
    },
    {
     "data": {
      "text/html": [
       "<pre style=\"white-space:pre;overflow-x:auto;line-height:normal;font-family:Menlo,'DejaVu Sans Mono',consolas,'Courier New',monospace\"></pre>\n"
      ],
      "text/plain": [
       "\u001b[?25l"
      ]
     },
     "metadata": {},
     "output_type": "display_data"
    },
    {
     "data": {
      "application/vnd.jupyter.widget-view+json": {
       "model_id": "7c0d2cdb10b7482c92c692d98bd8060a",
       "version_major": 2,
       "version_minor": 0
      },
      "text/plain": [
       "Output()"
      ]
     },
     "metadata": {},
     "output_type": "display_data"
    }
   ],
   "source": [
    "data = data_loader(general_cfg, multispectral_cfg)"
   ]
  },
  {
   "cell_type": "code",
   "execution_count": null,
   "metadata": {},
   "outputs": [],
   "source": [
    "# merge two dataframes\n",
    "df = pd.concat([data.data, data.meta], axis=1)\n",
    "# Assigning a reference to a running D-Tale process.\n",
    "d = dtale.show(df)\n",
    "# Using Python's `webbrowser` package it will try and open your server's default browser to this process.\n",
    "d.open_browser()"
   ]
  },
  {
   "cell_type": "code",
   "execution_count": null,
   "metadata": {},
   "outputs": [
    {
     "name": "stderr",
     "output_type": "stream",
     "text": [
      "2023-09-22 13:46:16,247 - INFO     - Executing shutdown...\n",
      "2023-09-22 13:46:16,248 - INFO     - Not running with the Werkzeug Server, exiting by searching gc for BaseWSGIServer\n"
     ]
    }
   ],
   "source": [
    "# Shutting down D-Tale process\n",
    "# d.kill()"
   ]
  }
 ],
 "metadata": {
  "kernelspec": {
   "display_name": "Python 3 (ipykernel)",
   "language": "python",
   "name": "python3"
  },
  "language_info": {
   "codemirror_mode": {
    "name": "ipython",
    "version": 3
   },
   "file_extension": ".py",
   "mimetype": "text/x-python",
   "name": "python",
   "nbconvert_exporter": "python",
   "pygments_lexer": "ipython3",
   "version": "3.10.12"
  }
 },
 "nbformat": 4,
 "nbformat_minor": 2
}
